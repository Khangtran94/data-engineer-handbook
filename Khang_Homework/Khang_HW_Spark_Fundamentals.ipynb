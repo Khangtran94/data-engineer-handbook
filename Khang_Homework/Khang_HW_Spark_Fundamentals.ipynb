{
 "cells": [
  {
   "cell_type": "markdown",
   "id": "b802612a",
   "metadata": {},
   "source": [
    "### Define filepath"
   ]
  },
  {
   "cell_type": "code",
   "execution_count": 106,
   "id": "d8c71254",
   "metadata": {},
   "outputs": [],
   "source": [
    "file_match_details = '../data/match_details.csv'\n",
    "file_matches = '../data/matches.csv'\n",
    "file_medals = '../data/medals.csv'\n",
    "file_medals_matches_players = '../data/medals_matches_players.csv'\n",
    "file_maps = '../data/maps.csv'"
   ]
  },
  {
   "cell_type": "markdown",
   "id": "383c2c40",
   "metadata": {},
   "source": [
    "### Load file"
   ]
  },
  {
   "cell_type": "code",
   "execution_count": 107,
   "id": "3dd51bf3",
   "metadata": {},
   "outputs": [
    {
     "name": "stderr",
     "output_type": "stream",
     "text": [
      "                                                                                \r"
     ]
    }
   ],
   "source": [
    "from pyspark.sql import SparkSession\n",
    "from pyspark.sql.functions import expr, col\n",
    "spark = SparkSession.builder.appName(\"Homework\").getOrCreate()\n",
    "spark.sparkContext.setLogLevel(\"ERROR\")\n",
    "### Load file into Spark\n",
    "matches = spark.read.option('header','true').csv(file_matches)\n",
    "match_details = spark.read.option('header','true').csv(file_match_details)\n",
    "medals = spark.read.option('header','true').csv(file_medals)\n",
    "medals_matches_players = spark.read.option('header','true').csv(file_medals_matches_players)\n",
    "maps = spark.read.option('header','true').csv(file_maps)"
   ]
  },
  {
   "cell_type": "markdown",
   "id": "7bd478b2",
   "metadata": {},
   "source": [
    "#### Matches:"
   ]
  },
  {
   "cell_type": "code",
   "execution_count": 108,
   "id": "684e188f",
   "metadata": {},
   "outputs": [
    {
     "name": "stdout",
     "output_type": "stream",
     "text": [
      "+--------------------+--------------------+------------+--------------------+--------------------+-------------+--------------------+--------------+---------+--------------------+\n",
      "|            match_id|               mapid|is_team_game|         playlist_id|     game_variant_id|is_match_over|     completion_date|match_duration|game_mode|      map_variant_id|\n",
      "+--------------------+--------------------+------------+--------------------+--------------------+-------------+--------------------+--------------+---------+--------------------+\n",
      "|11de1a94-8d07-416...|c7edbf0f-f206-11e...|        true|f72e0ef0-7c4a-430...|1e473914-46e4-408...|         true|2016-02-22 00:00:...|          NULL|     NULL|                NULL|\n",
      "|d3643e71-3e51-43e...|cb914b9e-f206-11e...|       false|d0766624-dbd7-453...|257a305e-4dd3-41f...|         true|2016-02-14 00:00:...|          NULL|     NULL|                NULL|\n",
      "|d78d2aae-36e4-48a...|c7edbf0f-f206-11e...|        true|f72e0ef0-7c4a-430...|1e473914-46e4-408...|         true|2016-03-24 00:00:...|          NULL|     NULL|55e5ee2e-88df-465...|\n",
      "|b440069e-ec5f-4f5...|c7edbf0f-f206-11e...|        true|f72e0ef0-7c4a-430...|1e473914-46e4-408...|         true|2015-12-23 00:00:...|          NULL|     NULL|ec3eef73-13e3-4d4...|\n",
      "|1dd475fc-ee6b-4e1...|c93d708f-f206-11e...|        true|0e39ead4-383b-445...|42f97cca-2cb4-497...|         true|2016-04-07 00:00:...|          NULL|     NULL|                NULL|\n",
      "|848f02ad-72ef-479...|cbcea2c0-f206-11e...|        true|2323b76a-db98-4e0...|257a305e-4dd3-41f...|         true|2016-03-17 00:00:...|          NULL|     NULL|                NULL|\n",
      "|e207adc1-4d7a-43a...|cc74f4e1-f206-11e...|        true|2323b76a-db98-4e0...|257a305e-4dd3-41f...|         true|2016-04-05 00:00:...|          NULL|     NULL|                NULL|\n",
      "|1fb5c2ec-ca60-434...|ca737f8f-f206-11e...|        true|bc0f8ad6-31e6-4a1...|257a305e-4dd3-41f...|         true|2015-12-16 00:00:...|          NULL|     NULL|                NULL|\n",
      "|54f1cbd2-2be6-4d5...|cbcea2c0-f206-11e...|        NULL|892189e9-d712-4bd...|257a305e-4dd3-41f...|         NULL|2016-02-04 00:00:...|          NULL|     NULL|7108c409-6d1e-41d...|\n",
      "|9e079488-1355-4c6...|c74c9d0f-f206-11e...|        true|0bcf2be1-3168-4e4...|b45854a7-e6e1-4a9...|         true|2015-11-22 00:00:...|          NULL|     NULL|1c632c30-3994-444...|\n",
      "+--------------------+--------------------+------------+--------------------+--------------------+-------------+--------------------+--------------+---------+--------------------+\n",
      "only showing top 10 rows\n",
      "\n",
      "Matches shape: 24025 rows and 10 columns.\n",
      "\n",
      "match_id                       string\n",
      "mapid                          string\n",
      "is_team_game                   string\n",
      "playlist_id                    string\n",
      "game_variant_id                string\n",
      "is_match_over                  string\n",
      "completion_date                string\n",
      "match_duration                 string\n",
      "game_mode                      string\n",
      "map_variant_id                 string\n"
     ]
    }
   ],
   "source": [
    "#### Show each file\n",
    "matches.show(10)\n",
    "print('Matches shape: {} rows and {} columns.'.format(matches.count(), len(matches.columns)))\n",
    "print()\n",
    "for col_name, dtype in matches.dtypes:\n",
    "    print(f\"{col_name:<30} {dtype}\")"
   ]
  },
  {
   "cell_type": "markdown",
   "id": "cc533db5",
   "metadata": {},
   "source": [
    "#### Match Details"
   ]
  },
  {
   "cell_type": "code",
   "execution_count": 109,
   "id": "dacc720f",
   "metadata": {},
   "outputs": [
    {
     "name": "stdout",
     "output_type": "stream",
     "text": [
      "+--------------------+-----------------+---------------------+------------+-----------------+--------+-----------------+------------------------+------------+---------------------------------+-----------------+----------------+-----------------------+-----------+--------------------------------+----------------+-------------------+---------------+-------------------+------------------+----------------------+--------------------------+-------------------------+------------------------+-------------------------+---------------------------+-------------------------------+--------------------------------+---------------------------+--------------------------------+-------------------------------+-------------------+--------------------+--------------------------+-------+-------+\n",
      "|            match_id|f_player_gamertag|previous_spartan_rank|spartan_rank|previous_total_xp|total_xp|previous_csr_tier|previous_csr_designation|previous_csr|previous_csr_percent_to_next_tier|previous_csr_rank|current_csr_tier|current_csr_designation|current_csr|current_csr_percent_to_next_tier|current_csr_rank|player_rank_on_team|player_finished|player_average_life|player_total_kills|player_total_headshots|player_total_weapon_damage|player_total_shots_landed|player_total_melee_kills|player_total_melee_damage|player_total_assassinations|player_total_ground_pound_kills|player_total_shoulder_bash_kills|player_total_grenade_damage|player_total_power_weapon_damage|player_total_power_weapon_grabs|player_total_deaths|player_total_assists|player_total_grenade_kills|did_win|team_id|\n",
      "+--------------------+-----------------+---------------------+------------+-----------------+--------+-----------------+------------------------+------------+---------------------------------+-----------------+----------------+-----------------------+-----------+--------------------------------+----------------+-------------------+---------------+-------------------+------------------+----------------------+--------------------------+-------------------------+------------------------+-------------------------+---------------------------+-------------------------------+--------------------------------+---------------------------+--------------------------------+-------------------------------+-------------------+--------------------+--------------------------+-------+-------+\n",
      "|71d79b23-4143-435...|        taterbase|                    5|           5|            12537|   13383|                1|                       3|           0|                               98|             NULL|               2|                      3|          0|                              26|            NULL|                  4|          false|        PT14.81149S|                 6|                     4|                       255|                       28|                       0|                        0|                          0|                              0|                               0|                          0|                               0|                              0|                 13|                   1|                         0|      1|      1|\n",
      "|71d79b23-4143-435...|   SuPeRSaYaInG0D|                   18|          18|           131943|  132557|                2|                       3|           0|                                2|             NULL|               1|                      3|          0|                              76|            NULL|                  7|          false|      PT11.2990845S|                 7|                     3|        350.58792304992676|                       49|                       1|                       45|                          0|                              0|                               0|                          0|                               0|                              0|                 18|                   2|                         0|      0|      0|\n",
      "|71d79b23-4143-435...|         EcZachly|                   21|          21|           168811|  169762|                2|                       5|           0|                               94|             NULL|               3|                      5|          0|                              24|            NULL|                  3|          false|      PT19.1357063S|                12|                    12|                       625|                       43|                       0|                        0|                          0|                              0|                               0|                          0|                               0|                              0|                 10|                   4|                         0|      1|      1|\n",
      "|71d79b23-4143-435...|      johnsnake04|                   14|          14|            64073|   64639|             NULL|                    NULL|        NULL|                             NULL|             NULL|            NULL|                   NULL|       NULL|                            NULL|            NULL|                  6|          false|      PT21.1521599S|                13|                    13|                       605|                       24|                       0|                        0|                          0|                              0|                               0|                          0|                               0|                              0|                  9|                   2|                         0|      0|      0|\n",
      "|71d79b23-4143-435...|   Super Mac Bros|                   26|          26|           243425|  244430|                1|                       5|           0|                               86|             NULL|               2|                      5|          0|                               8|            NULL|                  2|          false|      PT12.8373793S|                13|                    12|                       595|                       32|                       1|       20.004501342773438|                          0|                              0|                               0|                          0|                               0|                              0|                 15|                   2|                         0|      1|      1|\n",
      "|71d79b23-4143-435...|     Wingspear0k8|                   18|          18|           129281|  129937|             NULL|                    NULL|        NULL|                             NULL|             NULL|               1|                      5|          0|                               0|            NULL|                  5|          false|      PT17.4531394S|                21|                    18|         822.8789710998535|                       53|                       2|        90.00449999980628|                          0|                              0|                               0|                          0|                               0|                              0|                 11|                   0|                         0|      0|      0|\n",
      "|71d79b23-4143-435...|    JakeWilson801|                   18|          18|           118483|  119849|                1|                       4|           0|                               96|             NULL|               2|                      4|          0|                              24|            NULL|                  1|          false|       PT21.154286S|                19|                    18|                       865|                       57|                       0|                        0|                          0|                              0|                               0|                          0|                               0|                              0|                  9|                   1|                         0|      1|      1|\n",
      "|71d79b23-4143-435...|         xTOTIx12|                   16|          16|            91632|   92224|             NULL|                    NULL|        NULL|                             NULL|             NULL|            NULL|                   NULL|       NULL|                            NULL|            NULL|                  8|          false|      PT14.8119293S|                 6|                     6|        274.90775299072266|                       26|                       0|                        0|                          0|                              0|                               0|                          0|                               0|                              0|                 13|                   1|                         0|      0|      0|\n",
      "|fc3cefc0-954a-456...|         EcZachly|                   61|          61|          1276248| 1276979|                1|                       5|           0|                                8|             NULL|               1|                      5|          0|                               0|            NULL|                  5|          false|      PT17.4548378S|                 9|                     9|                       410|                       16|                       0|                        0|                          0|                              0|                               0|                          0|                               0|                              0|                 10|                   1|                         0|      0|      1|\n",
      "|fc3cefc0-954a-456...|    De Spelbreker|                   83|          83|          2303102| 2304723|                3|                       4|           0|                               68|             NULL|               3|                      4|          0|                              96|            NULL|                  4|          false|      PT22.5787499S|                10|                     8|        385.00000190734863|                       29|                       2|                       65|                          0|                              0|                               0|                          0|                               0|                              0|                  7|                   1|                         0|      1|      0|\n",
      "+--------------------+-----------------+---------------------+------------+-----------------+--------+-----------------+------------------------+------------+---------------------------------+-----------------+----------------+-----------------------+-----------+--------------------------------+----------------+-------------------+---------------+-------------------+------------------+----------------------+--------------------------+-------------------------+------------------------+-------------------------+---------------------------+-------------------------------+--------------------------------+---------------------------+--------------------------------+-------------------------------+-------------------+--------------------+--------------------------+-------+-------+\n",
      "only showing top 10 rows\n",
      "\n",
      "Matches shape: 151761 rows and 36 columns.\n",
      "\n",
      "match_id                       string\n",
      "f_player_gamertag              string\n",
      "previous_spartan_rank          string\n",
      "spartan_rank                   string\n",
      "previous_total_xp              string\n",
      "total_xp                       string\n",
      "previous_csr_tier              string\n",
      "previous_csr_designation       string\n",
      "previous_csr                   string\n",
      "previous_csr_percent_to_next_tier string\n",
      "previous_csr_rank              string\n",
      "current_csr_tier               string\n",
      "current_csr_designation        string\n",
      "current_csr                    string\n",
      "current_csr_percent_to_next_tier string\n",
      "current_csr_rank               string\n",
      "player_rank_on_team            string\n",
      "player_finished                string\n",
      "player_average_life            string\n",
      "player_total_kills             string\n",
      "player_total_headshots         string\n",
      "player_total_weapon_damage     string\n",
      "player_total_shots_landed      string\n",
      "player_total_melee_kills       string\n",
      "player_total_melee_damage      string\n",
      "player_total_assassinations    string\n",
      "player_total_ground_pound_kills string\n",
      "player_total_shoulder_bash_kills string\n",
      "player_total_grenade_damage    string\n",
      "player_total_power_weapon_damage string\n",
      "player_total_power_weapon_grabs string\n",
      "player_total_deaths            string\n",
      "player_total_assists           string\n",
      "player_total_grenade_kills     string\n",
      "did_win                        string\n",
      "team_id                        string\n"
     ]
    }
   ],
   "source": [
    "#### Show each file\n",
    "match_details = match_details.withColumnRenamed(\"player_gamertag\", \"f_player_gamertag\")\n",
    "match_details.show(10)\n",
    "print('Matches shape: {} rows and {} columns.'.format(match_details.count(), len(match_details.columns)))\n",
    "print()\n",
    "for col_name, dtype in match_details.dtypes:\n",
    "    print(f\"{col_name:<30} {dtype}\")"
   ]
  },
  {
   "cell_type": "markdown",
   "id": "81d0094e",
   "metadata": {},
   "source": [
    "#### Medals"
   ]
  },
  {
   "cell_type": "code",
   "execution_count": 110,
   "id": "532c130f",
   "metadata": {},
   "outputs": [
    {
     "name": "stdout",
     "output_type": "stream",
     "text": [
      "+----------+--------------------+-----------+----------+------------------+-------------------+------------+-------------+-----------------+--------------------+--------------+----------+\n",
      "|  medal_id|          sprite_uri|sprite_left|sprite_top|sprite_sheet_width|sprite_sheet_height|sprite_width|sprite_height|   classification|         description|          name|difficulty|\n",
      "+----------+--------------------+-----------+----------+------------------+-------------------+------------+-------------+-----------------+--------------------+--------------+----------+\n",
      "|2315448068|                NULL|       NULL|      NULL|              NULL|               NULL|        NULL|         NULL|             NULL|                NULL|          NULL|      NULL|\n",
      "|3565441934|                NULL|       NULL|      NULL|              NULL|               NULL|        NULL|         NULL|             NULL|                NULL|          NULL|      NULL|\n",
      "|4162659350|https://content.h...|        750|       750|                74|                 74|        1125|          899|         Breakout|Kill the last ene...| Buzzer Beater|        45|\n",
      "|1573153198|https://content.h...|          0|       300|                74|                 74|        1125|          899|         Breakout|Survive a one-on-...|    Vanquisher|        30|\n",
      "| 298813630|https://content.h...|          0|       825|                74|                 74|        1125|          899|            Style|Kill an enemy wit...|Spartan Charge|       135|\n",
      "|3824002610|https://content.h...|        750|       600|                74|                 74|        1125|          899|         Vehicles|Assist a player i...|  Ghost Assist|       140|\n",
      "|3324603383|https://content.h...|        225|       750|                74|                 74|        1125|          899|          Warzone|       Kill a Grunt.|    Grunt Kill|        60|\n",
      "| 979431049|https://content.h...|        975|       675|                74|                 74|        1125|          899|         Breakout|Survive a two-on-...|       Bifecta|        25|\n",
      "|3098362934|https://content.h...|        150|       750|                74|                 74|        1125|          899|WeaponProficiency|Kill a player in ...|  Perfect Kill|        25|\n",
      "|2435743433|https://content.h...|        750|       225|                74|                 74|        1125|          899|          Warzone|Kill an enemy in ...|  Base Defense|        30|\n",
      "+----------+--------------------+-----------+----------+------------------+-------------------+------------+-------------+-----------------+--------------------+--------------+----------+\n",
      "only showing top 10 rows\n",
      "\n",
      "Matches shape: 183 rows and 12 columns.\n",
      "\n",
      "medal_id                       string\n",
      "sprite_uri                     string\n",
      "sprite_left                    string\n",
      "sprite_top                     string\n",
      "sprite_sheet_width             string\n",
      "sprite_sheet_height            string\n",
      "sprite_width                   string\n",
      "sprite_height                  string\n",
      "classification                 string\n",
      "description                    string\n",
      "name                           string\n",
      "difficulty                     string\n"
     ]
    }
   ],
   "source": [
    "#### Show each file\n",
    "medals.show(10)\n",
    "print('Matches shape: {} rows and {} columns.'.format(medals.count(), len(medals.columns)))\n",
    "print()\n",
    "for col_name, dtype in medals.dtypes:\n",
    "    print(f\"{col_name:<30} {dtype}\")"
   ]
  },
  {
   "cell_type": "markdown",
   "id": "f8bc66f0",
   "metadata": {},
   "source": [
    "#### Medals Matches Players"
   ]
  },
  {
   "cell_type": "code",
   "execution_count": 111,
   "id": "2efb079e",
   "metadata": {},
   "outputs": [
    {
     "name": "stdout",
     "output_type": "stream",
     "text": [
      "+--------------------+---------------+----------+-----+\n",
      "|            match_id|player_gamertag|  medal_id|count|\n",
      "+--------------------+---------------+----------+-----+\n",
      "|009fdac5-e15c-47c...|       EcZachly|3261908037|    7|\n",
      "|009fdac5-e15c-47c...|       EcZachly| 824733727|    2|\n",
      "|009fdac5-e15c-47c...|       EcZachly|2078758684|    2|\n",
      "|009fdac5-e15c-47c...|       EcZachly|2782465081|    2|\n",
      "|9169d1a3-955c-4ea...|       EcZachly|3001183151|    1|\n",
      "|9169d1a3-955c-4ea...|       EcZachly|3565443938|    6|\n",
      "|9169d1a3-955c-4ea...|       EcZachly|3491849182|    1|\n",
      "|4a078b2f-65eb-4c6...|       EcZachly|3261908037|    8|\n",
      "|9169d1a3-955c-4ea...|       EcZachly|2105198095|    6|\n",
      "|9169d1a3-955c-4ea...|       EcZachly|2916014239|    3|\n",
      "+--------------------+---------------+----------+-----+\n",
      "only showing top 10 rows\n",
      "\n",
      "Matches shape: 755229 rows and 4 columns.\n",
      "\n",
      "match_id                       string\n",
      "player_gamertag                string\n",
      "medal_id                       string\n",
      "count                          string\n"
     ]
    }
   ],
   "source": [
    "#### Show each file\n",
    "medals_matches_players.show(10)\n",
    "print('Matches shape: {} rows and {} columns.'.format(medals_matches_players.count(), len(medals_matches_players.columns)))\n",
    "print()\n",
    "for col_name, dtype in medals_matches_players.dtypes:\n",
    "    print(f\"{col_name:<30} {dtype}\")"
   ]
  },
  {
   "cell_type": "markdown",
   "id": "fdf226eb",
   "metadata": {},
   "source": [
    "#### Maps:"
   ]
  },
  {
   "cell_type": "code",
   "execution_count": 112,
   "id": "a2dcbcd1",
   "metadata": {},
   "outputs": [
    {
     "name": "stdout",
     "output_type": "stream",
     "text": [
      "+--------------------+-------------------+--------------------+\n",
      "|               mapid|               name|         description|\n",
      "+--------------------+-------------------+--------------------+\n",
      "|c93d708f-f206-11e...|              Urban|Andesia was the c...|\n",
      "|cb251c51-f206-11e...|     Raid on Apex 7|This unbroken rin...|\n",
      "|c854e54f-f206-11e...|March on Stormbreak|                NULL|\n",
      "|c8d69870-f206-11e...| Escape from A.R.C.|Scientists flocke...|\n",
      "|73ed1fd0-45e5-4bb...|             Osiris|                NULL|\n",
      "|96c3e3dd-7703-408...|          Blue Team|                NULL|\n",
      "|1c4f8e19-b046-4f7...|            Glassed|                NULL|\n",
      "|825065cf-df57-42e...|        Unconfirmed|                NULL|\n",
      "|9a188f67-1664-4d7...|           Alliance|                NULL|\n",
      "|2702ea83-2c3e-4fd...|   Before the Storm|                NULL|\n",
      "+--------------------+-------------------+--------------------+\n",
      "only showing top 10 rows\n",
      "\n",
      "Matches shape: 40 rows and 3 columns.\n",
      "\n",
      "mapid                          string\n",
      "name                           string\n",
      "description                    string\n"
     ]
    }
   ],
   "source": [
    "#### Show each file\n",
    "maps.show(10)\n",
    "print('Matches shape: {} rows and {} columns.'.format(maps.count(), len(maps.columns)))\n",
    "print()\n",
    "for col_name, dtype in maps.dtypes:\n",
    "    print(f\"{col_name:<30} {dtype}\")"
   ]
  },
  {
   "cell_type": "markdown",
   "id": "4cf8dab1",
   "metadata": {},
   "source": [
    "## Homework\n"
   ]
  },
  {
   "cell_type": "code",
   "execution_count": 113,
   "id": "222a9a87",
   "metadata": {},
   "outputs": [
    {
     "data": {
      "text/plain": [
       "'-1'"
      ]
     },
     "execution_count": 113,
     "metadata": {},
     "output_type": "execute_result"
    }
   ],
   "source": [
    "#### Check automatic broadcast join\n",
    "spark.conf.get(\"spark.sql.autoBroadcastJoinThreshold\")"
   ]
  },
  {
   "cell_type": "code",
   "execution_count": 114,
   "id": "b96d5ee4",
   "metadata": {},
   "outputs": [],
   "source": [
    "#### Disable automatic broadcast join\n",
    "spark.conf.set(\"spark.sql.autoBroadcastJoinThreshold\", \"-1\")"
   ]
  },
  {
   "cell_type": "code",
   "execution_count": 115,
   "id": "b3eae40a",
   "metadata": {},
   "outputs": [],
   "source": [
    "### Broadcast medals vs maps\n",
    "from pyspark.sql.functions import broadcast\n",
    "medals_broadcast = broadcast(medals)\n",
    "maps_broadcast = broadcast(maps)"
   ]
  },
  {
   "cell_type": "code",
   "execution_count": 116,
   "id": "da2e6a46",
   "metadata": {},
   "outputs": [
    {
     "name": "stderr",
     "output_type": "stream",
     "text": [
      "                                                                                \r"
     ]
    }
   ],
   "source": [
    "### Bucket join with 16 buckets on match_id\n",
    "match_details.write.mode('overwrite').bucketBy(16, \"match_id\").sortBy(\"match_id\").saveAsTable(\"bucketed_match_details\")\n",
    "# spark.sql(\"DESCRIBE EXTENDED bucketed_match_details\").show(100,truncate=False)"
   ]
  },
  {
   "cell_type": "code",
   "execution_count": 117,
   "id": "b2a80d6f",
   "metadata": {},
   "outputs": [],
   "source": [
    "matches.write.mode('overwrite').bucketBy(16, \"match_id\").sortBy(\"match_id\").saveAsTable(\"bucketed_matches\")\n",
    "# spark.sql(\"DESCRIBE EXTENDED bucketed_matches\").show(100, truncate=False)\n"
   ]
  },
  {
   "cell_type": "code",
   "execution_count": 118,
   "id": "aa75123f",
   "metadata": {},
   "outputs": [
    {
     "name": "stderr",
     "output_type": "stream",
     "text": [
      "                                                                                \r"
     ]
    }
   ],
   "source": [
    "medals_matches_players.write.mode('overwrite').bucketBy(16, \"match_id\").sortBy(\"match_id\").saveAsTable(\"bucketed_medal_matches_players\")\n",
    "# spark.sql(\"DESCRIBE EXTENDED bucketed_medal_matches_players\").show(truncate=False)"
   ]
  },
  {
   "cell_type": "code",
   "execution_count": 119,
   "id": "66af9570",
   "metadata": {},
   "outputs": [],
   "source": [
    "### read table again \n",
    "bucketed_match_details = spark.table(\"bucketed_match_details\")\n",
    "bucketed_matches = spark.table(\"bucketed_matches\")\n",
    "bucketed_mmp = spark.table(\"bucketed_medal_matches_players\")"
   ]
  },
  {
   "cell_type": "code",
   "execution_count": 120,
   "metadata": {},
   "outputs": [
    {
     "name": "stdout",
     "output_type": "stream",
     "text": [
      "== Physical Plan ==\n",
      "AdaptiveSparkPlan isFinalPlan=false\n",
      "+- Project [mapid#8282, match_id#8301, medal_id#8303, player_gamertag#8302, count#8304, f_player_gamertag#8210, previous_spartan_rank#8211, spartan_rank#8212, previous_total_xp#8213, total_xp#8214, previous_csr_tier#8215, previous_csr_designation#8216, previous_csr#8217, previous_csr_percent_to_next_tier#8218, previous_csr_rank#8219, current_csr_tier#8220, current_csr_designation#8221, current_csr#8222, current_csr_percent_to_next_tier#8223, current_csr_rank#8224, player_rank_on_team#8225, player_finished#8226, player_average_life#8227, player_total_kills#8228, ... 37 more fields]\n",
      "   +- BroadcastHashJoin [mapid#8282], [mapid#7591], Inner, BuildRight, false\n",
      "      :- Project [match_id#8301, medal_id#8303, player_gamertag#8302, count#8304, f_player_gamertag#8210, previous_spartan_rank#8211, spartan_rank#8212, previous_total_xp#8213, total_xp#8214, previous_csr_tier#8215, previous_csr_designation#8216, previous_csr#8217, previous_csr_percent_to_next_tier#8218, previous_csr_rank#8219, current_csr_tier#8220, current_csr_designation#8221, current_csr#8222, current_csr_percent_to_next_tier#8223, current_csr_rank#8224, player_rank_on_team#8225, player_finished#8226, player_average_life#8227, player_total_kills#8228, player_total_headshots#8229, ... 35 more fields]\n",
      "      :  +- SortMergeJoin [match_id#8301], [match_id#8281], Inner\n",
      "      :     :- Project [medal_id#8303, match_id#8301, player_gamertag#8302, count#8304, f_player_gamertag#8210, previous_spartan_rank#8211, spartan_rank#8212, previous_total_xp#8213, total_xp#8214, previous_csr_tier#8215, previous_csr_designation#8216, previous_csr#8217, previous_csr_percent_to_next_tier#8218, previous_csr_rank#8219, current_csr_tier#8220, current_csr_designation#8221, current_csr#8222, current_csr_percent_to_next_tier#8223, current_csr_rank#8224, player_rank_on_team#8225, player_finished#8226, player_average_life#8227, player_total_kills#8228, player_total_headshots#8229, ... 26 more fields]\n",
      "      :     :  +- BroadcastHashJoin [medal_id#8303], [medal_id#7525], Inner, BuildRight, false\n",
      "      :     :     :- Project [match_id#8301, player_gamertag#8302, medal_id#8303, count#8304, f_player_gamertag#8210, previous_spartan_rank#8211, spartan_rank#8212, previous_total_xp#8213, total_xp#8214, previous_csr_tier#8215, previous_csr_designation#8216, previous_csr#8217, previous_csr_percent_to_next_tier#8218, previous_csr_rank#8219, current_csr_tier#8220, current_csr_designation#8221, current_csr#8222, current_csr_percent_to_next_tier#8223, current_csr_rank#8224, player_rank_on_team#8225, player_finished#8226, player_average_life#8227, player_total_kills#8228, player_total_headshots#8229, ... 15 more fields]\n",
      "      :     :     :  +- SortMergeJoin [match_id#8301], [match_id#8209], Inner\n",
      "      :     :     :     :- Sort [match_id#8301 ASC NULLS FIRST], false, 0\n",
      "      :     :     :     :  +- Filter (isnotnull(match_id#8301) AND isnotnull(medal_id#8303))\n",
      "      :     :     :     :     +- FileScan parquet spark_catalog.default.bucketed_medal_matches_players[match_id#8301,player_gamertag#8302,medal_id#8303,count#8304] Batched: true, Bucketed: true, DataFilters: [isnotnull(match_id#8301), isnotnull(medal_id#8303)], Format: Parquet, Location: InMemoryFileIndex(1 paths)[file:/Users/khangtran/Desktop/Bootcamp_Data_Expert/data-engineer-handb..., PartitionFilters: [], PushedFilters: [IsNotNull(match_id), IsNotNull(medal_id)], ReadSchema: struct<match_id:string,player_gamertag:string,medal_id:string,count:string>, SelectedBucketsCount: 16 out of 16\n",
      "      :     :     :     +- Sort [match_id#8209 ASC NULLS FIRST], false, 0\n",
      "      :     :     :        +- Filter isnotnull(match_id#8209)\n",
      "      :     :     :           +- FileScan parquet spark_catalog.default.bucketed_match_details[match_id#8209,f_player_gamertag#8210,previous_spartan_rank#8211,spartan_rank#8212,previous_total_xp#8213,total_xp#8214,previous_csr_tier#8215,previous_csr_designation#8216,previous_csr#8217,previous_csr_percent_to_next_tier#8218,previous_csr_rank#8219,current_csr_tier#8220,current_csr_designation#8221,current_csr#8222,current_csr_percent_to_next_tier#8223,current_csr_rank#8224,player_rank_on_team#8225,player_finished#8226,player_average_life#8227,player_total_kills#8228,player_total_headshots#8229,player_total_weapon_damage#8230,player_total_shots_landed#8231,player_total_melee_kills#8232,... 12 more fields] Batched: true, Bucketed: true, DataFilters: [isnotnull(match_id#8209)], Format: Parquet, Location: InMemoryFileIndex(1 paths)[file:/Users/khangtran/Desktop/Bootcamp_Data_Expert/data-engineer-handb..., PartitionFilters: [], PushedFilters: [IsNotNull(match_id)], ReadSchema: struct<match_id:string,f_player_gamertag:string,previous_spartan_rank:string,spartan_rank:string,..., SelectedBucketsCount: 16 out of 16\n",
      "      :     :     +- BroadcastExchange HashedRelationBroadcastMode(List(input[0, string, false]),false), [plan_id=15272]\n",
      "      :     :        +- Filter isnotnull(medal_id#7525)\n",
      "      :     :           +- FileScan csv [medal_id#7525,sprite_uri#7526,sprite_left#7527,sprite_top#7528,sprite_sheet_width#7529,sprite_sheet_height#7530,sprite_width#7531,sprite_height#7532,classification#7533,description#7534,name#7535,difficulty#7536] Batched: false, DataFilters: [isnotnull(medal_id#7525)], Format: CSV, Location: InMemoryFileIndex(1 paths)[file:/Users/khangtran/Desktop/Bootcamp_Data_Expert/data-engineer-handb..., PartitionFilters: [], PushedFilters: [IsNotNull(medal_id)], ReadSchema: struct<medal_id:string,sprite_uri:string,sprite_left:string,sprite_top:string,sprite_sheet_width:...\n",
      "      :     +- Sort [match_id#8281 ASC NULLS FIRST], false, 0\n",
      "      :        +- Filter (isnotnull(match_id#8281) AND isnotnull(mapid#8282))\n",
      "      :           +- FileScan parquet spark_catalog.default.bucketed_matches[match_id#8281,mapid#8282,is_team_game#8283,playlist_id#8284,game_variant_id#8285,is_match_over#8286,completion_date#8287,match_duration#8288,game_mode#8289,map_variant_id#8290] Batched: true, Bucketed: true, DataFilters: [isnotnull(match_id#8281), isnotnull(mapid#8282)], Format: Parquet, Location: InMemoryFileIndex(1 paths)[file:/Users/khangtran/Desktop/Bootcamp_Data_Expert/data-engineer-handb..., PartitionFilters: [], PushedFilters: [IsNotNull(match_id), IsNotNull(mapid)], ReadSchema: struct<match_id:string,mapid:string,is_team_game:string,playlist_id:string,game_variant_id:string..., SelectedBucketsCount: 16 out of 16\n",
      "      +- BroadcastExchange HashedRelationBroadcastMode(List(input[0, string, false]),false), [plan_id=15281]\n",
      "         +- Filter isnotnull(mapid#7591)\n",
      "            +- FileScan csv [mapid#7591,name#7592,description#7593] Batched: false, DataFilters: [isnotnull(mapid#7591)], Format: CSV, Location: InMemoryFileIndex(1 paths)[file:/Users/khangtran/Desktop/Bootcamp_Data_Expert/data-engineer-handb..., PartitionFilters: [], PushedFilters: [IsNotNull(mapid)], ReadSchema: struct<mapid:string,name:string,description:string>\n",
      "\n",
      "\n"
     ]
    }
   ],
   "source": [
    "final = bucketed_mmp.join(bucketed_match_details, on = \"match_id\")\\\n",
    "    .join(medals_broadcast, on = 'medal_id')\\\n",
    "        .join(bucketed_matches, on = \"match_id\")\\\n",
    "            .join(maps_broadcast, on = \"mapid\")\n",
    "final.explain()"
   ]
  },
  {
   "cell_type": "code",
   "execution_count": 121,
   "id": "847b83f2",
   "metadata": {},
   "outputs": [
    {
     "name": "stdout",
     "output_type": "stream",
     "text": [
      "+--------------------+--------------------+----------+---------------+-----+-----------------+---------------------+------------+-----------------+--------+-----------------+------------------------+------------+---------------------------------+-----------------+----------------+-----------------------+-----------+--------------------------------+----------------+-------------------+---------------+-------------------+------------------+----------------------+--------------------------+-------------------------+------------------------+-------------------------+---------------------------+-------------------------------+--------------------------------+---------------------------+--------------------------------+-------------------------------+-------------------+--------------------+--------------------------+-------+-------+--------------------+-----------+----------+------------------+-------------------+------------+-------------+-----------------+--------------------+-------------+----------+------------+--------------------+--------------------+-------------+--------------------+--------------+---------+--------------------+----+-----------+\n",
      "|               mapid|            match_id|  medal_id|player_gamertag|count|f_player_gamertag|previous_spartan_rank|spartan_rank|previous_total_xp|total_xp|previous_csr_tier|previous_csr_designation|previous_csr|previous_csr_percent_to_next_tier|previous_csr_rank|current_csr_tier|current_csr_designation|current_csr|current_csr_percent_to_next_tier|current_csr_rank|player_rank_on_team|player_finished|player_average_life|player_total_kills|player_total_headshots|player_total_weapon_damage|player_total_shots_landed|player_total_melee_kills|player_total_melee_damage|player_total_assassinations|player_total_ground_pound_kills|player_total_shoulder_bash_kills|player_total_grenade_damage|player_total_power_weapon_damage|player_total_power_weapon_grabs|player_total_deaths|player_total_assists|player_total_grenade_kills|did_win|team_id|          sprite_uri|sprite_left|sprite_top|sprite_sheet_width|sprite_sheet_height|sprite_width|sprite_height|   classification|         description|         name|difficulty|is_team_game|         playlist_id|     game_variant_id|is_match_over|     completion_date|match_duration|game_mode|      map_variant_id|name|description|\n",
      "+--------------------+--------------------+----------+---------------+-----+-----------------+---------------------+------------+-----------------+--------+-----------------+------------------------+------------+---------------------------------+-----------------+----------------+-----------------------+-----------+--------------------------------+----------------+-------------------+---------------+-------------------+------------------+----------------------+--------------------------+-------------------------+------------------------+-------------------------+---------------------------+-------------------------------+--------------------------------+---------------------------+--------------------------------+-------------------------------+-------------------+--------------------+--------------------------+-------+-------+--------------------+-----------+----------+------------------+-------------------+------------+-------------+-----------------+--------------------+-------------+----------+------------+--------------------+--------------------+-------------+--------------------+--------------+---------+--------------------+----+-----------+\n",
      "|ce89a40f-f206-11e...|0000e3cf-727c-491...|2078758684|         Draper|    2|           Draper|                   93|          93|          2756060| 2760247|             NULL|                    NULL|        NULL|                             NULL|             NULL|            NULL|                   NULL|       NULL|                            NULL|            NULL|                  2|          false|      PT25.4528583S|                23|                     6|        2362.1265325546265|                      231|                       3|        235.6045150756836|                          0|                              0|                               0|         176.28968048095703|               224.1402006149292|                              0|                 18|                   4|                         1|      0|      0|https://content.h...|        450|       300|                74|                 74|        1125|          899|        MultiKill|Kill 2 opponents ...|  Double Kill|        45|       false|d0766624-dbd7-453...|257a305e-4dd3-41f...|         true|2016-05-09 00:00:...|          NULL|     NULL|f2935c9a-14eb-469...|NULL|       NULL|\n",
      "|ce89a40f-f206-11e...|0000e3cf-727c-491...|2078758684|         Draper|    2|     wormo STEEZE|                   69|          69|          1705822| 1710306|             NULL|                    NULL|        NULL|                             NULL|             NULL|            NULL|                   NULL|       NULL|                            NULL|            NULL|                  6|          false|      PT20.3273808S|                11|                     7|        1889.2322340011597|                      107|                       0|                       70|                          0|                              1|                               0|         131.57504272460938|                             195|                              1|                 21|                  12|                         1|      0|      1|https://content.h...|        450|       300|                74|                 74|        1125|          899|        MultiKill|Kill 2 opponents ...|  Double Kill|        45|       false|d0766624-dbd7-453...|257a305e-4dd3-41f...|         true|2016-05-09 00:00:...|          NULL|     NULL|f2935c9a-14eb-469...|NULL|       NULL|\n",
      "|ce89a40f-f206-11e...|0000e3cf-727c-491...|2078758684|         Draper|    2|    Only a Silver|                   28|          28|           306456|  309366|                1|                       6|        1607|                                0|             NULL|               1|                      6|       1621|                               0|            NULL|                  1|          false|      PT27.4118232S|                26|                    15|        2944.5756454467773|                      180|                       3|       167.90000534057617|                          0|                              0|                               0|         258.93121337890625|                             195|                              0|                 16|                   7|                         1|      1|      2|https://content.h...|        450|       300|                74|                 74|        1125|          899|        MultiKill|Kill 2 opponents ...|  Double Kill|        45|       false|d0766624-dbd7-453...|257a305e-4dd3-41f...|         true|2016-05-09 00:00:...|          NULL|     NULL|f2935c9a-14eb-469...|NULL|       NULL|\n",
      "|ce89a40f-f206-11e...|0000e3cf-727c-491...|2078758684|         Draper|    2|         OLBOSS88|                  119|         119|          4500764| 4503793|                2|                       5|           0|                               68|             NULL|               2|                      5|          0|                              68|            NULL|                  5|          false|      PT23.6923322S|                12|                     5|        2032.0009779930115|                      139|                       0|                     62.5|                          0|                              0|                               0|           300.842360496521|              345.42193603515625|                              0|                 18|                   8|                         2|      0|      3|https://content.h...|        450|       300|                74|                 74|        1125|          899|        MultiKill|Kill 2 opponents ...|  Double Kill|        45|       false|d0766624-dbd7-453...|257a305e-4dd3-41f...|         true|2016-05-09 00:00:...|          NULL|     NULL|f2935c9a-14eb-469...|NULL|       NULL|\n",
      "|ce89a40f-f206-11e...|0000e3cf-727c-491...|2078758684|         Draper|    2|      Mike117Rune|                   98|          98|          3110431| 3115186|             NULL|                    NULL|        NULL|                             NULL|             NULL|            NULL|                   NULL|       NULL|                            NULL|            NULL|                  3|          false|       PT20.457295S|                19|                     5|         2335.998936653137|                      174|                       1|        169.2045021057129|                          0|                              0|                               0|          185.3845443725586|               716.1310405731201|                              1|                 21|                   7|                         1|      0|      4|https://content.h...|        450|       300|                74|                 74|        1125|          899|        MultiKill|Kill 2 opponents ...|  Double Kill|        45|       false|d0766624-dbd7-453...|257a305e-4dd3-41f...|         true|2016-05-09 00:00:...|          NULL|     NULL|f2935c9a-14eb-469...|NULL|       NULL|\n",
      "|ce89a40f-f206-11e...|0000e3cf-727c-491...|2078758684|         Draper|    2|     Phoreplay402|                   13|          13|            58298|   60619|             NULL|                    NULL|        NULL|                             NULL|             NULL|            NULL|                   NULL|       NULL|                            NULL|            NULL|                  4|          false|      PT23.6968591S|                18|                     5|         2112.234969139099|                      152|                       3|                    303.5|                          1|                              0|                               0|         238.66099548339844|               276.2496032714844|                              1|                 18|                   7|                         0|      0|      5|https://content.h...|        450|       300|                74|                 74|        1125|          899|        MultiKill|Kill 2 opponents ...|  Double Kill|        45|       false|d0766624-dbd7-453...|257a305e-4dd3-41f...|         true|2016-05-09 00:00:...|          NULL|     NULL|f2935c9a-14eb-469...|NULL|       NULL|\n",
      "|ce89a40f-f206-11e...|0000e3cf-727c-491...|2430242797|         Draper|    1|           Draper|                   93|          93|          2756060| 2760247|             NULL|                    NULL|        NULL|                             NULL|             NULL|            NULL|                   NULL|       NULL|                            NULL|            NULL|                  2|          false|      PT25.4528583S|                23|                     6|        2362.1265325546265|                      231|                       3|        235.6045150756836|                          0|                              0|                               0|         176.28968048095703|               224.1402006149292|                              0|                 18|                   4|                         1|      0|      0|https://content.h...|        675|       300|                74|                 74|        1125|          899|     KillingSpree|Kill 5 opponents ...|Killing Spree|        45|       false|d0766624-dbd7-453...|257a305e-4dd3-41f...|         true|2016-05-09 00:00:...|          NULL|     NULL|f2935c9a-14eb-469...|NULL|       NULL|\n",
      "|ce89a40f-f206-11e...|0000e3cf-727c-491...|2430242797|         Draper|    1|     wormo STEEZE|                   69|          69|          1705822| 1710306|             NULL|                    NULL|        NULL|                             NULL|             NULL|            NULL|                   NULL|       NULL|                            NULL|            NULL|                  6|          false|      PT20.3273808S|                11|                     7|        1889.2322340011597|                      107|                       0|                       70|                          0|                              1|                               0|         131.57504272460938|                             195|                              1|                 21|                  12|                         1|      0|      1|https://content.h...|        675|       300|                74|                 74|        1125|          899|     KillingSpree|Kill 5 opponents ...|Killing Spree|        45|       false|d0766624-dbd7-453...|257a305e-4dd3-41f...|         true|2016-05-09 00:00:...|          NULL|     NULL|f2935c9a-14eb-469...|NULL|       NULL|\n",
      "|ce89a40f-f206-11e...|0000e3cf-727c-491...|2430242797|         Draper|    1|    Only a Silver|                   28|          28|           306456|  309366|                1|                       6|        1607|                                0|             NULL|               1|                      6|       1621|                               0|            NULL|                  1|          false|      PT27.4118232S|                26|                    15|        2944.5756454467773|                      180|                       3|       167.90000534057617|                          0|                              0|                               0|         258.93121337890625|                             195|                              0|                 16|                   7|                         1|      1|      2|https://content.h...|        675|       300|                74|                 74|        1125|          899|     KillingSpree|Kill 5 opponents ...|Killing Spree|        45|       false|d0766624-dbd7-453...|257a305e-4dd3-41f...|         true|2016-05-09 00:00:...|          NULL|     NULL|f2935c9a-14eb-469...|NULL|       NULL|\n",
      "|ce89a40f-f206-11e...|0000e3cf-727c-491...|2430242797|         Draper|    1|         OLBOSS88|                  119|         119|          4500764| 4503793|                2|                       5|           0|                               68|             NULL|               2|                      5|          0|                              68|            NULL|                  5|          false|      PT23.6923322S|                12|                     5|        2032.0009779930115|                      139|                       0|                     62.5|                          0|                              0|                               0|           300.842360496521|              345.42193603515625|                              0|                 18|                   8|                         2|      0|      3|https://content.h...|        675|       300|                74|                 74|        1125|          899|     KillingSpree|Kill 5 opponents ...|Killing Spree|        45|       false|d0766624-dbd7-453...|257a305e-4dd3-41f...|         true|2016-05-09 00:00:...|          NULL|     NULL|f2935c9a-14eb-469...|NULL|       NULL|\n",
      "|ce89a40f-f206-11e...|0000e3cf-727c-491...|2430242797|         Draper|    1|      Mike117Rune|                   98|          98|          3110431| 3115186|             NULL|                    NULL|        NULL|                             NULL|             NULL|            NULL|                   NULL|       NULL|                            NULL|            NULL|                  3|          false|       PT20.457295S|                19|                     5|         2335.998936653137|                      174|                       1|        169.2045021057129|                          0|                              0|                               0|          185.3845443725586|               716.1310405731201|                              1|                 21|                   7|                         1|      0|      4|https://content.h...|        675|       300|                74|                 74|        1125|          899|     KillingSpree|Kill 5 opponents ...|Killing Spree|        45|       false|d0766624-dbd7-453...|257a305e-4dd3-41f...|         true|2016-05-09 00:00:...|          NULL|     NULL|f2935c9a-14eb-469...|NULL|       NULL|\n",
      "|ce89a40f-f206-11e...|0000e3cf-727c-491...|2430242797|         Draper|    1|     Phoreplay402|                   13|          13|            58298|   60619|             NULL|                    NULL|        NULL|                             NULL|             NULL|            NULL|                   NULL|       NULL|                            NULL|            NULL|                  4|          false|      PT23.6968591S|                18|                     5|         2112.234969139099|                      152|                       3|                    303.5|                          1|                              0|                               0|         238.66099548339844|               276.2496032714844|                              1|                 18|                   7|                         0|      0|      5|https://content.h...|        675|       300|                74|                 74|        1125|          899|     KillingSpree|Kill 5 opponents ...|Killing Spree|        45|       false|d0766624-dbd7-453...|257a305e-4dd3-41f...|         true|2016-05-09 00:00:...|          NULL|     NULL|f2935c9a-14eb-469...|NULL|       NULL|\n",
      "|ce89a40f-f206-11e...|0000e3cf-727c-491...| 250435527|         Draper|    1|           Draper|                   93|          93|          2756060| 2760247|             NULL|                    NULL|        NULL|                             NULL|             NULL|            NULL|                   NULL|       NULL|                            NULL|            NULL|                  2|          false|      PT25.4528583S|                23|                     6|        2362.1265325546265|                      231|                       3|        235.6045150756836|                          0|                              0|                               0|         176.28968048095703|               224.1402006149292|                              0|                 18|                   4|                         1|      0|      0|https://content.h...|        900|       225|                74|                 74|        1125|          899|            Style|Kill an enemy usi...|      Brawler|       195|       false|d0766624-dbd7-453...|257a305e-4dd3-41f...|         true|2016-05-09 00:00:...|          NULL|     NULL|f2935c9a-14eb-469...|NULL|       NULL|\n",
      "|ce89a40f-f206-11e...|0000e3cf-727c-491...| 250435527|         Draper|    1|     wormo STEEZE|                   69|          69|          1705822| 1710306|             NULL|                    NULL|        NULL|                             NULL|             NULL|            NULL|                   NULL|       NULL|                            NULL|            NULL|                  6|          false|      PT20.3273808S|                11|                     7|        1889.2322340011597|                      107|                       0|                       70|                          0|                              1|                               0|         131.57504272460938|                             195|                              1|                 21|                  12|                         1|      0|      1|https://content.h...|        900|       225|                74|                 74|        1125|          899|            Style|Kill an enemy usi...|      Brawler|       195|       false|d0766624-dbd7-453...|257a305e-4dd3-41f...|         true|2016-05-09 00:00:...|          NULL|     NULL|f2935c9a-14eb-469...|NULL|       NULL|\n",
      "|ce89a40f-f206-11e...|0000e3cf-727c-491...| 250435527|         Draper|    1|    Only a Silver|                   28|          28|           306456|  309366|                1|                       6|        1607|                                0|             NULL|               1|                      6|       1621|                               0|            NULL|                  1|          false|      PT27.4118232S|                26|                    15|        2944.5756454467773|                      180|                       3|       167.90000534057617|                          0|                              0|                               0|         258.93121337890625|                             195|                              0|                 16|                   7|                         1|      1|      2|https://content.h...|        900|       225|                74|                 74|        1125|          899|            Style|Kill an enemy usi...|      Brawler|       195|       false|d0766624-dbd7-453...|257a305e-4dd3-41f...|         true|2016-05-09 00:00:...|          NULL|     NULL|f2935c9a-14eb-469...|NULL|       NULL|\n",
      "|ce89a40f-f206-11e...|0000e3cf-727c-491...| 250435527|         Draper|    1|         OLBOSS88|                  119|         119|          4500764| 4503793|                2|                       5|           0|                               68|             NULL|               2|                      5|          0|                              68|            NULL|                  5|          false|      PT23.6923322S|                12|                     5|        2032.0009779930115|                      139|                       0|                     62.5|                          0|                              0|                               0|           300.842360496521|              345.42193603515625|                              0|                 18|                   8|                         2|      0|      3|https://content.h...|        900|       225|                74|                 74|        1125|          899|            Style|Kill an enemy usi...|      Brawler|       195|       false|d0766624-dbd7-453...|257a305e-4dd3-41f...|         true|2016-05-09 00:00:...|          NULL|     NULL|f2935c9a-14eb-469...|NULL|       NULL|\n",
      "|ce89a40f-f206-11e...|0000e3cf-727c-491...| 250435527|         Draper|    1|      Mike117Rune|                   98|          98|          3110431| 3115186|             NULL|                    NULL|        NULL|                             NULL|             NULL|            NULL|                   NULL|       NULL|                            NULL|            NULL|                  3|          false|       PT20.457295S|                19|                     5|         2335.998936653137|                      174|                       1|        169.2045021057129|                          0|                              0|                               0|          185.3845443725586|               716.1310405731201|                              1|                 21|                   7|                         1|      0|      4|https://content.h...|        900|       225|                74|                 74|        1125|          899|            Style|Kill an enemy usi...|      Brawler|       195|       false|d0766624-dbd7-453...|257a305e-4dd3-41f...|         true|2016-05-09 00:00:...|          NULL|     NULL|f2935c9a-14eb-469...|NULL|       NULL|\n",
      "|ce89a40f-f206-11e...|0000e3cf-727c-491...| 250435527|         Draper|    1|     Phoreplay402|                   13|          13|            58298|   60619|             NULL|                    NULL|        NULL|                             NULL|             NULL|            NULL|                   NULL|       NULL|                            NULL|            NULL|                  4|          false|      PT23.6968591S|                18|                     5|         2112.234969139099|                      152|                       3|                    303.5|                          1|                              0|                               0|         238.66099548339844|               276.2496032714844|                              1|                 18|                   7|                         0|      0|      5|https://content.h...|        900|       225|                74|                 74|        1125|          899|            Style|Kill an enemy usi...|      Brawler|       195|       false|d0766624-dbd7-453...|257a305e-4dd3-41f...|         true|2016-05-09 00:00:...|          NULL|     NULL|f2935c9a-14eb-469...|NULL|       NULL|\n",
      "|ce89a40f-f206-11e...|0000e3cf-727c-491...|3261908037|         Draper|    4|           Draper|                   93|          93|          2756060| 2760247|             NULL|                    NULL|        NULL|                             NULL|             NULL|            NULL|                   NULL|       NULL|                            NULL|            NULL|                  2|          false|      PT25.4528583S|                23|                     6|        2362.1265325546265|                      231|                       3|        235.6045150756836|                          0|                              0|                               0|         176.28968048095703|               224.1402006149292|                              0|                 18|                   4|                         1|      0|      0|https://content.h...|        375|       525|                74|                 74|        1125|          899|WeaponProficiency|Kill an opponent ...|     Headshot|        60|       false|d0766624-dbd7-453...|257a305e-4dd3-41f...|         true|2016-05-09 00:00:...|          NULL|     NULL|f2935c9a-14eb-469...|NULL|       NULL|\n",
      "|ce89a40f-f206-11e...|0000e3cf-727c-491...|3261908037|         Draper|    4|     wormo STEEZE|                   69|          69|          1705822| 1710306|             NULL|                    NULL|        NULL|                             NULL|             NULL|            NULL|                   NULL|       NULL|                            NULL|            NULL|                  6|          false|      PT20.3273808S|                11|                     7|        1889.2322340011597|                      107|                       0|                       70|                          0|                              1|                               0|         131.57504272460938|                             195|                              1|                 21|                  12|                         1|      0|      1|https://content.h...|        375|       525|                74|                 74|        1125|          899|WeaponProficiency|Kill an opponent ...|     Headshot|        60|       false|d0766624-dbd7-453...|257a305e-4dd3-41f...|         true|2016-05-09 00:00:...|          NULL|     NULL|f2935c9a-14eb-469...|NULL|       NULL|\n",
      "+--------------------+--------------------+----------+---------------+-----+-----------------+---------------------+------------+-----------------+--------+-----------------+------------------------+------------+---------------------------------+-----------------+----------------+-----------------------+-----------+--------------------------------+----------------+-------------------+---------------+-------------------+------------------+----------------------+--------------------------+-------------------------+------------------------+-------------------------+---------------------------+-------------------------------+--------------------------------+---------------------------+--------------------------------+-------------------------------+-------------------+--------------------+--------------------------+-------+-------+--------------------+-----------+----------+------------------+-------------------+------------+-------------+-----------------+--------------------+-------------+----------+------------+--------------------+--------------------+-------------+--------------------+--------------+---------+--------------------+----+-----------+\n",
      "only showing top 20 rows\n",
      "\n"
     ]
    }
   ],
   "source": [
    "final.orderBy('match_id').show()"
   ]
  },
  {
   "cell_type": "markdown",
   "id": "c8a203b8",
   "metadata": {},
   "source": [
    "### Which player averages the most kills per game ?"
   ]
  },
  {
   "cell_type": "code",
   "execution_count": 122,
   "id": "074060ac",
   "metadata": {},
   "outputs": [
    {
     "name": "stderr",
     "output_type": "stream",
     "text": [
      "[Stage 250:============================>                           (8 + 8) / 16]\r"
     ]
    },
    {
     "name": "stdout",
     "output_type": "stream",
     "text": [
      "+-----------------+-----------+------------+------------------+\n",
      "|f_player_gamertag|total_kills|games_played|avg_kills_per_game|\n",
      "+-----------------+-----------+------------+------------------+\n",
      "|     gimpinator14|      109.0|           1|             109.0|\n",
      "|    I Johann117 I|       96.0|           1|              96.0|\n",
      "|  BudgetLegendary|       83.0|           1|              83.0|\n",
      "|        GsFurreal|       75.0|           1|              75.0|\n",
      "|     Sexy is Back|       73.0|           1|              73.0|\n",
      "|     killerguy789|       68.0|           1|              68.0|\n",
      "|  THC GUILTYSPARK|       67.0|           1|              67.0|\n",
      "|      HisLattice1|       66.0|           1|              66.0|\n",
      "|  PrimePromethean|       66.0|           1|              66.0|\n",
      "|       taurenmonk|       64.0|           1|              64.0|\n",
      "|     Dinosaur B0B|       63.0|           1|              63.0|\n",
      "|  WhiteMountainDC|       63.0|           1|              63.0|\n",
      "|          Darugis|       62.0|           1|              62.0|\n",
      "|       MONKEYBAKE|       62.0|           1|              62.0|\n",
      "|         BlightNB|       62.0|           1|              62.0|\n",
      "|      ManicZ0mb1e|       61.0|           1|              61.0|\n",
      "|  Lord Leonidamir|       60.0|           1|              60.0|\n",
      "|  LEGENDARY link0|       60.0|           1|              60.0|\n",
      "|      ohh Replxys|       60.0|           1|              60.0|\n",
      "|  Recon Omega2552|       59.0|           1|              59.0|\n",
      "+-----------------+-----------+------------+------------------+\n",
      "only showing top 20 rows\n",
      "\n"
     ]
    },
    {
     "name": "stderr",
     "output_type": "stream",
     "text": [
      "                                                                                \r"
     ]
    }
   ],
   "source": [
    "from pyspark.sql import functions as F\n",
    "dedup_df = final.select(\"match_id\", \"f_player_gamertag\", \"player_total_kills\") \\\n",
    "    .dropDuplicates([\"match_id\", \"f_player_gamertag\"])\n",
    "    \n",
    "agg_df = dedup_df.groupBy(\"f_player_gamertag\").agg(\n",
    "    F.sum(\"player_total_kills\").alias(\"total_kills\"),\n",
    "    F.count(\"match_id\").alias(\"games_played\"))\n",
    "\n",
    "result_df = agg_df.withColumn(\n",
    "    \"avg_kills_per_game\",\n",
    "    F.col(\"total_kills\") / F.col(\"games_played\"))\n",
    "\n",
    "player_avg_kills = result_df.orderBy(F.col(\"avg_kills_per_game\").desc())\n",
    "player_avg_kills.show()"
   ]
  },
  {
   "cell_type": "markdown",
   "id": "b06e5d13",
   "metadata": {},
   "source": [
    "### Which playlist gets played the most ?"
   ]
  },
  {
   "cell_type": "code",
   "execution_count": 123,
   "id": "b20c392f",
   "metadata": {},
   "outputs": [
    {
     "name": "stderr",
     "output_type": "stream",
     "text": [
      "[Stage 255:============================>                           (8 + 8) / 16]\r"
     ]
    },
    {
     "name": "stdout",
     "output_type": "stream",
     "text": [
      "+--------------------+-----+\n",
      "|         playlist_id|count|\n",
      "+--------------------+-----+\n",
      "|f72e0ef0-7c4a-430...| 7640|\n",
      "|2323b76a-db98-4e0...| 3171|\n",
      "|892189e9-d712-4bd...| 1961|\n",
      "|c98949ae-60a8-43d...| 1816|\n",
      "|f27a65eb-2d11-496...|  682|\n",
      "|d0766624-dbd7-453...|  618|\n",
      "|0bcf2be1-3168-4e4...|  535|\n",
      "|5728f612-3f20-445...|  494|\n",
      "|780cc101-005c-4fc...|  480|\n",
      "|355dc154-9809-4ed...|  269|\n",
      "|bc0f8ad6-31e6-4a1...|  245|\n",
      "|7b7e892c-d9b7-4b0...|  215|\n",
      "|7385b4a1-86bf-4ae...|  178|\n",
      "|819eb188-1a1c-48b...|  152|\n",
      "|4b12472e-2a06-423...|  143|\n",
      "|f0c9ef9a-48bd-4b2...|  115|\n",
      "|88b7de19-113c-4be...|   62|\n",
      "|b5d5a242-ffa5-4d8...|   49|\n",
      "|d21c8381-26f1-4d6...|   45|\n",
      "|2e812e09-912f-458...|   32|\n",
      "+--------------------+-----+\n",
      "only showing top 20 rows\n",
      "\n"
     ]
    },
    {
     "name": "stderr",
     "output_type": "stream",
     "text": [
      "                                                                                \r"
     ]
    }
   ],
   "source": [
    "final.select(\"match_id\", \"playlist_id\").dropDuplicates()\\\n",
    "    .groupBy(\"playlist_id\").count()\\\n",
    "        .orderBy(F.col(\"count\").desc()).show()"
   ]
  },
  {
   "cell_type": "markdown",
   "id": "ca09fb25",
   "metadata": {},
   "source": [
    "###     Which map gets played the most ?"
   ]
  },
  {
   "cell_type": "code",
   "execution_count": 124,
   "id": "2bec3c83",
   "metadata": {},
   "outputs": [
    {
     "name": "stderr",
     "output_type": "stream",
     "text": [
      "[Stage 260:============================>                           (8 + 8) / 16]\r"
     ]
    },
    {
     "name": "stdout",
     "output_type": "stream",
     "text": [
      "+--------------------+-----+\n",
      "|               mapid|count|\n",
      "+--------------------+-----+\n",
      "|c7edbf0f-f206-11e...| 7032|\n",
      "|c74c9d0f-f206-11e...| 1358|\n",
      "|cdb934b0-f206-11e...| 1347|\n",
      "|cb914b9e-f206-11e...| 1022|\n",
      "|ce1dc2de-f206-11e...|  971|\n",
      "|caacb800-f206-11e...|  949|\n",
      "|cdee4e70-f206-11e...|  922|\n",
      "|c7805740-f206-11e...|  922|\n",
      "|cebd854f-f206-11e...|  904|\n",
      "|cd844200-f206-11e...|  870|\n",
      "|cc040aa1-f206-11e...|  849|\n",
      "|ca737f8f-f206-11e...|  560|\n",
      "|cbcea2c0-f206-11e...|  467|\n",
      "|cc74f4e1-f206-11e...|  416|\n",
      "|ce89a40f-f206-11e...|  209|\n",
      "|c7b7baf0-f206-11e...|  144|\n",
      "+--------------------+-----+\n",
      "\n"
     ]
    },
    {
     "name": "stderr",
     "output_type": "stream",
     "text": [
      "                                                                                \r"
     ]
    }
   ],
   "source": [
    "final.select('match_id','mapid').dropDuplicates()\\\n",
    "    .groupBy('mapid').count()\\\n",
    "        .orderBy(F.col('count').desc()).show()"
   ]
  },
  {
   "cell_type": "markdown",
   "id": "211f4d10",
   "metadata": {},
   "source": [
    "###     Which map do players get the most Killing Spree medals on ?\n"
   ]
  },
  {
   "cell_type": "code",
   "execution_count": 125,
   "id": "58538204",
   "metadata": {},
   "outputs": [
    {
     "name": "stderr",
     "output_type": "stream",
     "text": [
      "[Stage 265:===>                                                    (1 + 8) / 16]\r"
     ]
    },
    {
     "name": "stdout",
     "output_type": "stream",
     "text": [
      "+--------------------+-----+\n",
      "|               mapid|count|\n",
      "+--------------------+-----+\n",
      "|c7edbf0f-f206-11e...| 4917|\n",
      "|c74c9d0f-f206-11e...| 1290|\n",
      "|cdb934b0-f206-11e...| 1111|\n",
      "|cb914b9e-f206-11e...|  917|\n",
      "|ce1dc2de-f206-11e...|  868|\n",
      "|caacb800-f206-11e...|  829|\n",
      "|cebd854f-f206-11e...|  821|\n",
      "|c7805740-f206-11e...|  814|\n",
      "|cdee4e70-f206-11e...|  809|\n",
      "|cd844200-f206-11e...|  788|\n",
      "|cc040aa1-f206-11e...|  752|\n",
      "|ca737f8f-f206-11e...|  495|\n",
      "|cbcea2c0-f206-11e...|  417|\n",
      "|cc74f4e1-f206-11e...|  374|\n",
      "|ce89a40f-f206-11e...|  171|\n",
      "|c7b7baf0-f206-11e...|  140|\n",
      "+--------------------+-----+\n",
      "\n"
     ]
    },
    {
     "name": "stderr",
     "output_type": "stream",
     "text": [
      "                                                                                \r"
     ]
    }
   ],
   "source": [
    "final.filter(col('classification') == 'KillingSpree')\\\n",
    "    .select('match_id','mapid','classification').dropDuplicates()\\\n",
    "        .groupBy('mapid').count()\\\n",
    "            .orderBy(col('count').desc()).show()"
   ]
  },
  {
   "cell_type": "markdown",
   "id": "ede520e1",
   "metadata": {},
   "source": [
    "### Try sortWithinPartitions"
   ]
  },
  {
   "cell_type": "code",
   "execution_count": 126,
   "id": "f58e75b1",
   "metadata": {},
   "outputs": [
    {
     "name": "stdout",
     "output_type": "stream",
     "text": [
      "+--------------------+--------------------+----------+---------------+-----+-----------------+---------------------+------------+-----------------+--------+-----------------+------------------------+------------+---------------------------------+-----------------+----------------+-----------------------+-----------+--------------------------------+----------------+-------------------+---------------+-------------------+------------------+----------------------+--------------------------+-------------------------+------------------------+-------------------------+---------------------------+-------------------------------+--------------------------------+---------------------------+--------------------------------+-------------------------------+-------------------+--------------------+--------------------------+-------+-------+--------------------+-----------+----------+------------------+-------------------+------------+-------------+-----------------+--------------------+------------+----------+------------+--------------------+--------------------+-------------+--------------------+--------------+---------+--------------+----------+--------------------+\n",
      "|               mapid|            match_id|  medal_id|player_gamertag|count|f_player_gamertag|previous_spartan_rank|spartan_rank|previous_total_xp|total_xp|previous_csr_tier|previous_csr_designation|previous_csr|previous_csr_percent_to_next_tier|previous_csr_rank|current_csr_tier|current_csr_designation|current_csr|current_csr_percent_to_next_tier|current_csr_rank|player_rank_on_team|player_finished|player_average_life|player_total_kills|player_total_headshots|player_total_weapon_damage|player_total_shots_landed|player_total_melee_kills|player_total_melee_damage|player_total_assassinations|player_total_ground_pound_kills|player_total_shoulder_bash_kills|player_total_grenade_damage|player_total_power_weapon_damage|player_total_power_weapon_grabs|player_total_deaths|player_total_assists|player_total_grenade_kills|did_win|team_id|          sprite_uri|sprite_left|sprite_top|sprite_sheet_width|sprite_sheet_height|sprite_width|sprite_height|   classification|         description|        name|difficulty|is_team_game|         playlist_id|     game_variant_id|is_match_over|     completion_date|match_duration|game_mode|map_variant_id|      name|         description|\n",
      "+--------------------+--------------------+----------+---------------+-----+-----------------+---------------------+------------+-----------------+--------+-----------------+------------------------+------------+---------------------------------+-----------------+----------------+-----------------------+-----------+--------------------------------+----------------+-------------------+---------------+-------------------+------------------+----------------------+--------------------------+-------------------------+------------------------+-------------------------+---------------------------+-------------------------------+--------------------------------+---------------------------+--------------------------------+-------------------------------+-------------------+--------------------+--------------------------+-------+-------+--------------------+-----------+----------+------------------+-------------------+------------+-------------+-----------------+--------------------+------------+----------+------------+--------------------+--------------------+-------------+--------------------+--------------+---------+--------------+----------+--------------------+\n",
      "|ca737f8f-f206-11e...|00114a87-5696-421...|3653057799|     Sn1pe2Fast|    1|       Sn1pe2Fast|                  111|         111|          3981872| 3983816|                1|                       6|        1760|                                0|             NULL|               1|                      6|       1780|                               0|            NULL|                  3|          false|      PT26.0296942S|                11|                     6|         2477.138982772827|                      175|                       0|                        0|                          0|                              0|                               0|          530.5472717285156|               40.77271270751953|                              0|                 14|                  10|                         1|      1|      0|https://content.h...|        450|       750|                74|                 74|        1125|          899|WeaponProficiency|Kill a player in ...|Perfect Kill|        40|        true|892189e9-d712-4bd...|257a305e-4dd3-41f...|         true|2016-04-17 00:00:...|          NULL|     NULL|          NULL|Overgrowth|Nature has reclai...|\n",
      "|ca737f8f-f206-11e...|00114a87-5696-421...|3653057799|     Sn1pe2Fast|    1|       AbR TrojaN|                  113|         113|          4186165| 4187504|                1|                       6|        1915|                                0|              613|               1|                      6|       1901|                               0|             655|                  7|          false|      PT34.4215604S|                11|                     7|        1751.0748977661133|                      128|                       0|                      115|                          1|                              0|                               0|         297.22161865234375|                             115|                              1|                 11|                   5|                         0|      0|      1|https://content.h...|        450|       750|                74|                 74|        1125|          899|WeaponProficiency|Kill a player in ...|Perfect Kill|        40|        true|892189e9-d712-4bd...|257a305e-4dd3-41f...|         true|2016-04-17 00:00:...|          NULL|     NULL|          NULL|Overgrowth|Nature has reclai...|\n",
      "|ca737f8f-f206-11e...|00114a87-5696-421...|3653057799|     Sn1pe2Fast|    1|        Amplafied|                   93|          93|          2790465| 2792168|                1|                       6|        1539|                                0|             NULL|               1|                      6|       1558|                               0|            NULL|                  2|          false|      PT34.5548209S|                14|                     7|         2031.626386642456|                      152|                       1|        256.3824234008789|                          1|                              0|                               0|          430.9451904296875|                               0|                              0|                 11|                  14|                         0|      1|      0|https://content.h...|        450|       750|                74|                 74|        1125|          899|WeaponProficiency|Kill a player in ...|Perfect Kill|        40|        true|892189e9-d712-4bd...|257a305e-4dd3-41f...|         true|2016-04-17 00:00:...|          NULL|     NULL|          NULL|Overgrowth|Nature has reclai...|\n",
      "|ca737f8f-f206-11e...|00114a87-5696-421...|3653057799|     Sn1pe2Fast|    1|         Striddez|                   91|          91|          2676990| 2678911|                1|                       6|        1776|                                0|             NULL|               1|                      6|       1763|                               0|            NULL|                  5|          false|      PT23.7865204S|                16|                    10|         2562.956283569336|                      188|                       2|       167.60000228881836|                          0|                              0|                               0|         176.04600524902344|                               0|                              0|                 16|                  10|                         0|      0|      1|https://content.h...|        450|       750|                74|                 74|        1125|          899|WeaponProficiency|Kill a player in ...|Perfect Kill|        40|        true|892189e9-d712-4bd...|257a305e-4dd3-41f...|         true|2016-04-17 00:00:...|          NULL|     NULL|          NULL|Overgrowth|Nature has reclai...|\n",
      "|ca737f8f-f206-11e...|00114a87-5696-421...|3653057799|     Sn1pe2Fast|    1|            Thunk|                   78|          78|          1993634| 1994934|                1|                       6|        1595|                                0|             NULL|               1|                      6|       1582|                               0|            NULL|                  8|          false|      PT31.2758246S|                 9|                     3|        1958.8654613494873|                      165|                       2|       169.80000686645508|                          0|                              0|                               0|         191.45662307739258|                               0|                              1|                 13|                   8|                         2|      0|      1|https://content.h...|        450|       750|                74|                 74|        1125|          899|WeaponProficiency|Kill a player in ...|Perfect Kill|        40|        true|892189e9-d712-4bd...|257a305e-4dd3-41f...|         true|2016-04-17 00:00:...|          NULL|     NULL|          NULL|Overgrowth|Nature has reclai...|\n",
      "|ca737f8f-f206-11e...|00114a87-5696-421...|3653057799|     Sn1pe2Fast|    1|     Ragin Trajan|                  108|         108|          3713182| 3715123|             NULL|                    NULL|        NULL|                             NULL|             NULL|               1|                      6|       1612|                               0|            NULL|                  1|          false|      PT37.8941573S|                17|                    14|        1966.6350784301758|                      152|                       1|                    167.5|                          0|                              0|                               0|          69.20699691772461|               7.499998092651367|                              0|                 11|                  11|                         1|      1|      0|https://content.h...|        450|       750|                74|                 74|        1125|          899|WeaponProficiency|Kill a player in ...|Perfect Kill|        40|        true|892189e9-d712-4bd...|257a305e-4dd3-41f...|         true|2016-04-17 00:00:...|          NULL|     NULL|          NULL|Overgrowth|Nature has reclai...|\n",
      "|ca737f8f-f206-11e...|00114a87-5696-421...|3653057799|     Sn1pe2Fast|    1|     z6 Spainiard|                   92|          92|          2702563| 2703885|                1|                       6|        1723|                                0|             NULL|               1|                      6|       1710|                               0|            NULL|                  6|          false|      PT38.2527177S|                12|                     5|        1935.6817474365234|                      135|                       1|        231.4000015258789|                          0|                              0|                               0|          286.3315734863281|                             115|                              2|                 10|                   8|                         1|      0|      1|https://content.h...|        450|       750|                74|                 74|        1125|          899|WeaponProficiency|Kill a player in ...|Perfect Kill|        40|        true|892189e9-d712-4bd...|257a305e-4dd3-41f...|         true|2016-04-17 00:00:...|          NULL|     NULL|          NULL|Overgrowth|Nature has reclai...|\n",
      "|ca737f8f-f206-11e...|00114a87-5696-421...|3653057799|     Sn1pe2Fast|    1|    TheRaginRhino|                   84|          84|          2385371| 2386951|             NULL|                    NULL|        NULL|                             NULL|             NULL|            NULL|                   NULL|       NULL|                            NULL|            NULL|                  4|          false|      PT34.0629728S|                 8|                     1|        1756.4542083740234|                      110|                       3|       170.92656993865967|                          0|                              0|                               0|          224.2042646408081|               195.7499771118164|                              1|                 12|                  12|                         0|      1|      0|https://content.h...|        450|       750|                74|                 74|        1125|          899|WeaponProficiency|Kill a player in ...|Perfect Kill|        40|        true|892189e9-d712-4bd...|257a305e-4dd3-41f...|         true|2016-04-17 00:00:...|          NULL|     NULL|          NULL|Overgrowth|Nature has reclai...|\n",
      "|ca737f8f-f206-11e...|00114a87-5696-421...|3261908037|     Sn1pe2Fast|    5|       Sn1pe2Fast|                  111|         111|          3981872| 3983816|                1|                       6|        1760|                                0|             NULL|               1|                      6|       1780|                               0|            NULL|                  3|          false|      PT26.0296942S|                11|                     6|         2477.138982772827|                      175|                       0|                        0|                          0|                              0|                               0|          530.5472717285156|               40.77271270751953|                              0|                 14|                  10|                         1|      1|      0|https://content.h...|        375|       525|                74|                 74|        1125|          899|WeaponProficiency|Kill an opponent ...|    Headshot|        60|        true|892189e9-d712-4bd...|257a305e-4dd3-41f...|         true|2016-04-17 00:00:...|          NULL|     NULL|          NULL|Overgrowth|Nature has reclai...|\n",
      "|ca737f8f-f206-11e...|00114a87-5696-421...|3261908037|     Sn1pe2Fast|    5|       AbR TrojaN|                  113|         113|          4186165| 4187504|                1|                       6|        1915|                                0|              613|               1|                      6|       1901|                               0|             655|                  7|          false|      PT34.4215604S|                11|                     7|        1751.0748977661133|                      128|                       0|                      115|                          1|                              0|                               0|         297.22161865234375|                             115|                              1|                 11|                   5|                         0|      0|      1|https://content.h...|        375|       525|                74|                 74|        1125|          899|WeaponProficiency|Kill an opponent ...|    Headshot|        60|        true|892189e9-d712-4bd...|257a305e-4dd3-41f...|         true|2016-04-17 00:00:...|          NULL|     NULL|          NULL|Overgrowth|Nature has reclai...|\n",
      "|ca737f8f-f206-11e...|00114a87-5696-421...|3261908037|     Sn1pe2Fast|    5|        Amplafied|                   93|          93|          2790465| 2792168|                1|                       6|        1539|                                0|             NULL|               1|                      6|       1558|                               0|            NULL|                  2|          false|      PT34.5548209S|                14|                     7|         2031.626386642456|                      152|                       1|        256.3824234008789|                          1|                              0|                               0|          430.9451904296875|                               0|                              0|                 11|                  14|                         0|      1|      0|https://content.h...|        375|       525|                74|                 74|        1125|          899|WeaponProficiency|Kill an opponent ...|    Headshot|        60|        true|892189e9-d712-4bd...|257a305e-4dd3-41f...|         true|2016-04-17 00:00:...|          NULL|     NULL|          NULL|Overgrowth|Nature has reclai...|\n",
      "|ca737f8f-f206-11e...|00114a87-5696-421...|3261908037|     Sn1pe2Fast|    5|         Striddez|                   91|          91|          2676990| 2678911|                1|                       6|        1776|                                0|             NULL|               1|                      6|       1763|                               0|            NULL|                  5|          false|      PT23.7865204S|                16|                    10|         2562.956283569336|                      188|                       2|       167.60000228881836|                          0|                              0|                               0|         176.04600524902344|                               0|                              0|                 16|                  10|                         0|      0|      1|https://content.h...|        375|       525|                74|                 74|        1125|          899|WeaponProficiency|Kill an opponent ...|    Headshot|        60|        true|892189e9-d712-4bd...|257a305e-4dd3-41f...|         true|2016-04-17 00:00:...|          NULL|     NULL|          NULL|Overgrowth|Nature has reclai...|\n",
      "|ca737f8f-f206-11e...|00114a87-5696-421...|3261908037|     Sn1pe2Fast|    5|            Thunk|                   78|          78|          1993634| 1994934|                1|                       6|        1595|                                0|             NULL|               1|                      6|       1582|                               0|            NULL|                  8|          false|      PT31.2758246S|                 9|                     3|        1958.8654613494873|                      165|                       2|       169.80000686645508|                          0|                              0|                               0|         191.45662307739258|                               0|                              1|                 13|                   8|                         2|      0|      1|https://content.h...|        375|       525|                74|                 74|        1125|          899|WeaponProficiency|Kill an opponent ...|    Headshot|        60|        true|892189e9-d712-4bd...|257a305e-4dd3-41f...|         true|2016-04-17 00:00:...|          NULL|     NULL|          NULL|Overgrowth|Nature has reclai...|\n",
      "|ca737f8f-f206-11e...|00114a87-5696-421...|3261908037|     Sn1pe2Fast|    5|     Ragin Trajan|                  108|         108|          3713182| 3715123|             NULL|                    NULL|        NULL|                             NULL|             NULL|               1|                      6|       1612|                               0|            NULL|                  1|          false|      PT37.8941573S|                17|                    14|        1966.6350784301758|                      152|                       1|                    167.5|                          0|                              0|                               0|          69.20699691772461|               7.499998092651367|                              0|                 11|                  11|                         1|      1|      0|https://content.h...|        375|       525|                74|                 74|        1125|          899|WeaponProficiency|Kill an opponent ...|    Headshot|        60|        true|892189e9-d712-4bd...|257a305e-4dd3-41f...|         true|2016-04-17 00:00:...|          NULL|     NULL|          NULL|Overgrowth|Nature has reclai...|\n",
      "|ca737f8f-f206-11e...|00114a87-5696-421...|3261908037|     Sn1pe2Fast|    5|     z6 Spainiard|                   92|          92|          2702563| 2703885|                1|                       6|        1723|                                0|             NULL|               1|                      6|       1710|                               0|            NULL|                  6|          false|      PT38.2527177S|                12|                     5|        1935.6817474365234|                      135|                       1|        231.4000015258789|                          0|                              0|                               0|          286.3315734863281|                             115|                              2|                 10|                   8|                         1|      0|      1|https://content.h...|        375|       525|                74|                 74|        1125|          899|WeaponProficiency|Kill an opponent ...|    Headshot|        60|        true|892189e9-d712-4bd...|257a305e-4dd3-41f...|         true|2016-04-17 00:00:...|          NULL|     NULL|          NULL|Overgrowth|Nature has reclai...|\n",
      "|ca737f8f-f206-11e...|00114a87-5696-421...|3261908037|     Sn1pe2Fast|    5|    TheRaginRhino|                   84|          84|          2385371| 2386951|             NULL|                    NULL|        NULL|                             NULL|             NULL|            NULL|                   NULL|       NULL|                            NULL|            NULL|                  4|          false|      PT34.0629728S|                 8|                     1|        1756.4542083740234|                      110|                       3|       170.92656993865967|                          0|                              0|                               0|          224.2042646408081|               195.7499771118164|                              1|                 12|                  12|                         0|      1|      0|https://content.h...|        375|       525|                74|                 74|        1125|          899|WeaponProficiency|Kill an opponent ...|    Headshot|        60|        true|892189e9-d712-4bd...|257a305e-4dd3-41f...|         true|2016-04-17 00:00:...|          NULL|     NULL|          NULL|Overgrowth|Nature has reclai...|\n",
      "|ca737f8f-f206-11e...|00114a87-5696-421...|3400287617|     Sn1pe2Fast|    3|       Sn1pe2Fast|                  111|         111|          3981872| 3983816|                1|                       6|        1760|                                0|             NULL|               1|                      6|       1780|                               0|            NULL|                  3|          false|      PT26.0296942S|                11|                     6|         2477.138982772827|                      175|                       0|                        0|                          0|                              0|                               0|          530.5472717285156|               40.77271270751953|                              0|                 14|                  10|                         1|      1|      0|https://content.h...|        450|       600|                74|                 74|        1125|          899|            Style|Kill an opponent ...|  Close Call|       155|        true|892189e9-d712-4bd...|257a305e-4dd3-41f...|         true|2016-04-17 00:00:...|          NULL|     NULL|          NULL|Overgrowth|Nature has reclai...|\n",
      "|ca737f8f-f206-11e...|00114a87-5696-421...|3400287617|     Sn1pe2Fast|    3|       AbR TrojaN|                  113|         113|          4186165| 4187504|                1|                       6|        1915|                                0|              613|               1|                      6|       1901|                               0|             655|                  7|          false|      PT34.4215604S|                11|                     7|        1751.0748977661133|                      128|                       0|                      115|                          1|                              0|                               0|         297.22161865234375|                             115|                              1|                 11|                   5|                         0|      0|      1|https://content.h...|        450|       600|                74|                 74|        1125|          899|            Style|Kill an opponent ...|  Close Call|       155|        true|892189e9-d712-4bd...|257a305e-4dd3-41f...|         true|2016-04-17 00:00:...|          NULL|     NULL|          NULL|Overgrowth|Nature has reclai...|\n",
      "|ca737f8f-f206-11e...|00114a87-5696-421...|3400287617|     Sn1pe2Fast|    3|        Amplafied|                   93|          93|          2790465| 2792168|                1|                       6|        1539|                                0|             NULL|               1|                      6|       1558|                               0|            NULL|                  2|          false|      PT34.5548209S|                14|                     7|         2031.626386642456|                      152|                       1|        256.3824234008789|                          1|                              0|                               0|          430.9451904296875|                               0|                              0|                 11|                  14|                         0|      1|      0|https://content.h...|        450|       600|                74|                 74|        1125|          899|            Style|Kill an opponent ...|  Close Call|       155|        true|892189e9-d712-4bd...|257a305e-4dd3-41f...|         true|2016-04-17 00:00:...|          NULL|     NULL|          NULL|Overgrowth|Nature has reclai...|\n",
      "|ca737f8f-f206-11e...|00114a87-5696-421...|3400287617|     Sn1pe2Fast|    3|         Striddez|                   91|          91|          2676990| 2678911|                1|                       6|        1776|                                0|             NULL|               1|                      6|       1763|                               0|            NULL|                  5|          false|      PT23.7865204S|                16|                    10|         2562.956283569336|                      188|                       2|       167.60000228881836|                          0|                              0|                               0|         176.04600524902344|                               0|                              0|                 16|                  10|                         0|      0|      1|https://content.h...|        450|       600|                74|                 74|        1125|          899|            Style|Kill an opponent ...|  Close Call|       155|        true|892189e9-d712-4bd...|257a305e-4dd3-41f...|         true|2016-04-17 00:00:...|          NULL|     NULL|          NULL|Overgrowth|Nature has reclai...|\n",
      "+--------------------+--------------------+----------+---------------+-----+-----------------+---------------------+------------+-----------------+--------+-----------------+------------------------+------------+---------------------------------+-----------------+----------------+-----------------------+-----------+--------------------------------+----------------+-------------------+---------------+-------------------+------------------+----------------------+--------------------------+-------------------------+------------------------+-------------------------+---------------------------+-------------------------------+--------------------------------+---------------------------+--------------------------------+-------------------------------+-------------------+--------------------+--------------------------+-------+-------+--------------------+-----------+----------+------------------+-------------------+------------+-------------+-----------------+--------------------+------------+----------+------------+--------------------+--------------------+-------------+--------------------+--------------+---------+--------------+----------+--------------------+\n",
      "only showing top 20 rows\n",
      "\n"
     ]
    }
   ],
   "source": [
    "final.show()"
   ]
  },
  {
   "cell_type": "code",
   "execution_count": 127,
   "id": "9134172f",
   "metadata": {},
   "outputs": [
    {
     "name": "stderr",
     "output_type": "stream",
     "text": [
      "                                                                                \r"
     ]
    },
    {
     "name": "stdout",
     "output_type": "stream",
     "text": [
      "Number unique value of column mapid: 16\n"
     ]
    },
    {
     "name": "stderr",
     "output_type": "stream",
     "text": [
      "[Stage 281:============================>                           (8 + 8) / 16]\r"
     ]
    },
    {
     "name": "stdout",
     "output_type": "stream",
     "text": [
      "Number unique value of column playlistid: 23\n"
     ]
    },
    {
     "name": "stderr",
     "output_type": "stream",
     "text": [
      "                                                                                \r"
     ]
    }
   ],
   "source": [
    "print('Number unique value of column mapid: {}'.format(final.select('mapid').distinct().count()))\n",
    "print('Number unique value of column playlistid: {}'.format(final.select('playlist_id').distinct().count()))"
   ]
  },
  {
   "cell_type": "code",
   "execution_count": 129,
   "id": "c8799a1e",
   "metadata": {},
   "outputs": [],
   "source": [
    "playlist_sort = final.repartition(\"playlist_id\").sortWithinPartitions(\"playlist_id\") \n",
    "map_sort = final.repartition('mapid').sortWithinPartitions('mapid')\n",
    "playlist_map_sort = final.repartition('playlist_id','mapid').sortWithinPartitions('playlist_id','mapid')\n",
    "map_playlist_sort = final.repartition('mapid','playlist_id').sortWithinPartitions('mapid','playlist_id')"
   ]
  }
 ],
 "metadata": {
  "kernelspec": {
   "display_name": "Python 3 (ipykernel)",
   "language": "python",
   "name": "python3"
  },
  "language_info": {
   "codemirror_mode": {
    "name": "ipython",
    "version": 3
   },
   "file_extension": ".py",
   "mimetype": "text/x-python",
   "name": "python",
   "nbconvert_exporter": "python",
   "pygments_lexer": "ipython3",
   "version": "3.11.5"
  }
 },
 "nbformat": 4,
 "nbformat_minor": 5
}
